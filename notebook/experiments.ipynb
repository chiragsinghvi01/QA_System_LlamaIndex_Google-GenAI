{
 "cells": [
  {
   "cell_type": "code",
   "execution_count": 2,
   "id": "a7e6e1b7",
   "metadata": {},
   "outputs": [
    {
     "data": {
      "text/plain": [
       "True"
      ]
     },
     "execution_count": 2,
     "metadata": {},
     "output_type": "execute_result"
    }
   ],
   "source": [
    "#Load Environment Variables and API Key\n",
    "\n",
    "import os\n",
    "from dotenv import load_dotenv\n",
    "load_dotenv()"
   ]
  },
  {
   "cell_type": "code",
   "execution_count": 3,
   "id": "10103179",
   "metadata": {},
   "outputs": [],
   "source": [
    "#Retrieve Google API Key from Environment\n",
    "\n",
    "google_api_key = os.getenv(\"GOOGLE_API_KEY\")"
   ]
  },
  {
   "cell_type": "code",
   "execution_count": 4,
   "id": "2a4e792e",
   "metadata": {},
   "outputs": [
    {
     "name": "stdout",
     "output_type": "stream",
     "text": [
      "Google API key loaded successfully.\n"
     ]
    }
   ],
   "source": [
    "#Validate Google API Key\n",
    "\n",
    "if google_api_key is None:\n",
    "    print(\"Google API key not found. Please set the GOOGLE_API_KEY environment variable.\")\n",
    "else:\n",
    "    print(\"Google API key loaded successfully.\")"
   ]
  },
  {
   "cell_type": "code",
   "execution_count": 5,
   "id": "47219b8d",
   "metadata": {},
   "outputs": [],
   "source": [
    "#Import required Libraries\n",
    "\n",
    "from llama_index.core import (VectorStoreIndex, SimpleDirectoryReader, ServiceContext,\n",
    "                              StorageContext, load_index_from_storage)\n",
    "from llama_index.llms.google_genai import GoogleGenAI \n",
    "from llama_index.embeddings.google_genai import GoogleGenAIEmbedding\n",
    "from google import genai\n",
    "from IPython.display import Markdown, display"
   ]
  },
  {
   "cell_type": "code",
   "execution_count": 6,
   "id": "ebc19eb3",
   "metadata": {},
   "outputs": [],
   "source": [
    "#Initialize Google Generative AI Client\n",
    "\n",
    "client = genai.Client(api_key=google_api_key)"
   ]
  },
  {
   "cell_type": "code",
   "execution_count": null,
   "id": "daec487a",
   "metadata": {},
   "outputs": [],
   "source": [
    "#List all available Models\n",
    "\n",
    "for model in client.models.list():\n",
    "    display(Markdown(f\" *Model*: {model.name} | {model.supported_actions}\"))"
   ]
  },
  {
   "cell_type": "code",
   "execution_count": null,
   "id": "ded5b1b6",
   "metadata": {},
   "outputs": [],
   "source": [
    "#List Models that support `generateContent`\n",
    "\n",
    "for model in client.models.list():\n",
    "    if 'generateContent' in model.supported_actions:\n",
    "        display(Markdown(f\" *Model*: {model.name} | {model.supported_actions}\"))"
   ]
  }
 ],
 "metadata": {
  "kernelspec": {
   "display_name": "Python 3",
   "language": "python",
   "name": "python3"
  },
  "language_info": {
   "codemirror_mode": {
    "name": "ipython",
    "version": 3
   },
   "file_extension": ".py",
   "mimetype": "text/x-python",
   "name": "python",
   "nbconvert_exporter": "python",
   "pygments_lexer": "ipython3",
   "version": "3.13.5"
  }
 },
 "nbformat": 4,
 "nbformat_minor": 5
}
